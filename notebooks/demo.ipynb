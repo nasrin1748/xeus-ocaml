{
  "metadata": {
    "kernelspec": {
      "name": "xocaml",
      "display_name": "ocaml 5.3.0 (xocaml)",
      "language": "ocaml"
    },
    "language_info": {
      "codemirror_mode": "ocaml",
      "file_extension": ".ml",
      "mimetype": "text/x-ocaml",
      "name": "ocaml",
      "nbconvert_exporter": "",
      "pygments_lexer": "ocaml",
      "version": "5.2.0"
    }
  },
  "nbformat_minor": 4,
  "nbformat": 4,
  "cells": [
    {
      "cell_type": "markdown",
      "source": "\n# Welcome to xeus-ocaml! 🚀\n\n`xeus-ocaml` is a Jupyter kernel for the OCaml programming language that runs entirely in your web browser, powered by WebAssembly.\n\nThis notebook will walk you through its key features:\n- **Interactive OCaml Toplevel**: Run OCaml code and see results instantly.\n- **Code Intelligence**: Get code completion and type/documentation inspection, thanks to Merlin.\n- **Rich Display**: Render HTML, Markdown, plots, and more directly from OCaml.\n- **Dynamic Library Loading**: Use the `#require` directive to load external libraries like `ocamlgraph`.\n- **Virtual Filesystem**: Work with files using standard OCaml I/O functions.\n\nLet's get started!\n\n## 1. Basic Toplevel Execution\n\nYou can execute OCaml code just like in a regular toplevel. Each phrase must end with `;;`.",
      "metadata": {}
    },
    {
      "cell_type": "code",
      "source": "1 + 1;;\n\n\"Hello, \" ^ \"Jupyter!\";;",
      "metadata": {
        "trusted": true
      },
      "outputs": [],
      "execution_count": null
    },
    {
      "cell_type": "markdown",
      "source": "The kernel maintains its state between cells. You can define a function in one cell and use it in another.",
      "metadata": {}
    },
    {
      "cell_type": "code",
      "source": "let greet name = \"Hello, \" ^ name ^ \"!\";;",
      "metadata": {
        "trusted": true
      },
      "outputs": [],
      "execution_count": null
    },
    {
      "cell_type": "code",
      "source": "greet \"xeus-ocaml\";;",
      "metadata": {
        "trusted": true
      },
      "outputs": [],
      "execution_count": null
    },
    {
      "cell_type": "markdown",
      "source": "\n## 2. Code Intelligence with Merlin\n\n`xeus-ocaml` integrates Merlin to provide an IDE-like experience.\n\n#### Code Completion\nIn the cell below, place your cursor after `List.` and press `Tab` to see a list of available functions.\n",
      "metadata": {}
    },
    {
      "cell_type": "code",
      "source": "List.",
      "metadata": {
        "trusted": true
      },
      "outputs": [],
      "execution_count": null
    },
    {
      "cell_type": "markdown",
      "source": "#### Code Inspection\n\nYou can view the type and documentation for an identifier by placing your cursor over it and pressing `Shift+Tab`. You can also open the Helper with `Ctrl+I`",
      "metadata": {}
    },
    {
      "cell_type": "code",
      "source": "List.map",
      "metadata": {
        "trusted": true
      },
      "outputs": [],
      "execution_count": null
    },
    {
      "cell_type": "markdown",
      "source": "## 3. Rich Display with `Xlib`\n\nThe `Xlib` module is automatically opened at startup, providing functions to render rich outputs like HTML, Markdown, and even interactive plots.\n",
      "metadata": {}
    },
    {
      "cell_type": "code",
      "source": "output_html \"<h1>This is an HTML Header</h1><p>Rendered from OCaml!</p>\";;\n\noutput_markdown \"# And this is Markdown\\n\\n* With a bullet point!\\n* And another.\";;\n",
      "metadata": {
        "trusted": true
      },
      "outputs": [],
      "execution_count": null
    },
    {
      "cell_type": "markdown",
      "source": "You can also display structured data like JSON and create interactive plots using Vega-Lite.",
      "metadata": {}
    },
    {
      "cell_type": "code",
      "source": "(* Display a JSON object *)\nlet json_string = \"{\\\"name\\\": \\\"xeus-ocaml\\\", \\\"is_awesome\\\": true}\";;\noutput_json json_string;;\n\n(* Display a Vega-Lite bar chart *)\nlet vega_spec = {|\n  {\n    \"$schema\": \"https://vega.github.io/schema/vega-lite/v5.json\",\n    \"description\": \"A simple bar chart.\",\n    \"data\": {\n      \"values\": [\n        {\"a\": \"A\", \"b\": 28}, {\"a\": \"B\", \"b\": 55}, {\"a\": \"C\", \"b\": 43},\n        {\"a\": \"D\", \"b\": 91}, {\"a\": \"E\", \"b\": 81}, {\"a\": \"F\", \"b\": 53}\n      ]\n    },\n    \"mark\": \"bar\",\n    \"encoding\": {\n      \"x\": {\"field\": \"a\", \"type\": \"nominal\"},\n      \"y\": {\"field\": \"b\", \"type\": \"quantitative\"}\n    }\n  }\n|};;\noutput_vegalite vega_spec;;\n",
      "metadata": {
        "trusted": true
      },
      "outputs": [],
      "execution_count": null
    },
    {
      "cell_type": "markdown",
      "source": "## 4. Dynamic Library Loading with `ocamlgraph`\n\nYou can load external libraries using the `#require` directive. Let's load `ocamlgraph` to build and visualize a graph.\n",
      "metadata": {}
    },
    {
      "cell_type": "code",
      "source": "#require \"ocamlgraph\";;",
      "metadata": {
        "trusted": true
      },
      "outputs": [],
      "execution_count": null
    },
    {
      "cell_type": "markdown",
      "source": "### Creating a Simple Graph\n\nLet's start by defining a module for a simple, persistent, directed graph.\n- **`Persistent`**: The graph data structure is immutable. Every operation (like adding an edge) returns a *new* graph.\n- **`Digraph`**: The graph is directed (edges have a source and a destination).\n- **`Concrete`**: The vertices themselves are the labels (in this case, `string`).\n",
      "metadata": {}
    },
    {
      "cell_type": "code",
      "source": "open Graph;;\n\nmodule G = Persistent.Digraph.Concrete(\n  struct\n    type t = string\n    let compare = String.compare\n    let hash = Hashtbl.hash\n    let equal = (=)\n  end\n);;\n\n(* Create an empty graph *)\nlet g = G.empty;;\n\nprint_endline \"Empty graph created.\";;",
      "metadata": {
        "trusted": true
      },
      "outputs": [],
      "execution_count": null
    },
    {
      "cell_type": "markdown",
      "source": "### Adding Vertices and Edges\n\nSince our graph is persistent, we re-assign the `g` variable with the new graph returned by each operation. We'll model a simple graph of flights between cities.",
      "metadata": {}
    },
    {
      "cell_type": "code",
      "source": "let g = G.add_vertex g \"Paris\";;\nlet g = G.add_vertex g \"London\";;\nlet g = G.add_vertex g \"New York\";;\nlet g = G.add_vertex g \"Tokyo\";;\n\nlet g = G.add_edge g \"London\" \"Paris\";;\nlet g = G.add_edge g \"Paris\" \"New York\";;\nlet g = G.add_edge g \"New York\" \"Tokyo\";;\nlet g = G.add_edge g \"Tokyo\" \"London\";; (* A cycle! *)\nlet g = G.add_edge g \"Paris\" \"Tokyo\";;\n\nprint_endline \"Added 4 vertices and 5 edges.\";;",
      "metadata": {
        "trusted": true
      },
      "outputs": [],
      "execution_count": null
    },
    {
      "cell_type": "markdown",
      "source": "### Inspecting the Graph\n\nWe can now query the graph for basic information like the number of vertices and edges, and iterate over them.",
      "metadata": {}
    },
    {
      "cell_type": "code",
      "source": "Printf.printf \"Number of vertices: %d\\n\" (G.nb_vertex g);;\nPrintf.printf \"Number of edges: %d\\n\" (G.nb_edges g);;\n\nprint_endline \"\\nVertices:\";;\nG.iter_vertex (fun v -> print_endline v) g;;\n\nprint_endline \"\\nEdges:\";;\nG.iter_edges_e (fun (src, dst) -> Printf.printf \"%s -> %s\\n\" src dst) g;;",
      "metadata": {
        "trusted": true
      },
      "outputs": [],
      "execution_count": null
    },
    {
      "cell_type": "markdown",
      "source": "### Running a Simple Algorithm: Depth-First Search (DFS)\n\nOCamlGraph comes with many pre-built algorithms. Let's use a Depth-First Search traversal. We create a new module `Dfs` by applying the `Graph.Traverse.Dfs` functor to our graph module `G`.",
      "metadata": {}
    },
    {
      "cell_type": "code",
      "source": "module Dfs = Traverse.Dfs(G);;",
      "metadata": {
        "trusted": true
      },
      "outputs": [],
      "execution_count": null
    },
    {
      "cell_type": "markdown",
      "source": "#### DFS traversal order (prefix):",
      "metadata": {}
    },
    {
      "cell_type": "code",
      "source": "Dfs.iter ~pre:(fun v -> Printf.printf \"%s \" v) g;;",
      "metadata": {
        "trusted": true
      },
      "outputs": [],
      "execution_count": null
    },
    {
      "cell_type": "markdown",
      "source": "#### Check for cycles",
      "metadata": {}
    },
    {
      "cell_type": "code",
      "source": "if Dfs.has_cycle g then\n  print_endline \"\\nThe graph has at least one cycle.\"\nelse\n  print_endline \"\\nThe graph is a DAG (Directed Acyclic Graph).\";;",
      "metadata": {
        "trusted": true
      },
      "outputs": [],
      "execution_count": null
    },
    {
      "cell_type": "markdown",
      "source": "### Visualization with Graphviz (Dot format)\n\nOCamlGraph can generate output in the **DOT language**, which can be used by the Graphviz tool suite to render an image of the graph.\n\nFirst, we create a `Dot` module configured for our graph `G`, specifying how vertices and the overall graph should be styled.",
      "metadata": {}
    },
    {
      "cell_type": "code",
      "source": "module Dot = Graphviz.Dot(\n  struct\n    include G (* Use our graph module `G` *)\n\n    (* Graph-level attributes *)\n    let graph_attributes _ = [`Rankdir `LeftToRight]\n    \n    (* Default vertex attributes *)\n    let default_vertex_attributes _ = []\n    \n    (* Vertex-specific attributes *)\n    let vertex_name v = Printf.sprintf \"\\\"%s\\\"\" v (* Quote vertex names *)\n    let vertex_attributes _ = [`Shape `Box; `Style `Rounded]\n    \n    (* Default edge attributes *)\n    let default_edge_attributes _ = []\n    \n    (* Edge-specific attributes *)\n    let edge_attributes _ = []\n    \n    (* Subgraph handling (not used here) *)\n    let get_subgraph _ = None\n  end\n);;",
      "metadata": {
        "trusted": true
      },
      "outputs": [],
      "execution_count": null
    },
    {
      "cell_type": "markdown",
      "source": "### Generating the Graph dot string (graphviz)\n\nNow, let's generate the DOT representation and print it !",
      "metadata": {}
    },
    {
      "cell_type": "code",
      "source": "(* Generate the DOT output to a string buffer *)\nlet dot_string = \n    let buffer = Buffer.create 1024 in\n    let formatter = Format.formatter_of_buffer buffer in\n    Dot.fprint_graph formatter g;\n    Format.pp_print_flush formatter ();\n    Buffer.contents buffer",
      "metadata": {
        "trusted": true
      },
      "outputs": [],
      "execution_count": null
    },
    {
      "cell_type": "markdown",
      "source": "### SVG Visualization with builtin extension and viz.js",
      "metadata": {}
    },
    {
      "cell_type": "code",
      "source": "output_dot dot_string",
      "metadata": {
        "trusted": true
      },
      "outputs": [],
      "execution_count": null
    },
    {
      "cell_type": "markdown",
      "source": "## 5. Virtual Filesystem\n\nThe kernel includes an in-memory virtual filesystem. You can use standard OCaml `In_channel`, `Out_channel`, and `Sys` functions to interact with it.",
      "metadata": {}
    },
    {
      "cell_type": "code",
      "source": "(* Write a message to a file *)\nlet message = \"Hello from the virtual filesystem!\";;\nlet oc = open_out \"hello.txt\";;\noutput_string oc message;;\nclose_out oc;;",
      "metadata": {
        "trusted": true
      },
      "outputs": [],
      "execution_count": null
    },
    {
      "cell_type": "code",
      "source": "(* Read the message back *)\nlet ic = open_in \"hello.txt\";;\nlet read_message = input_line ic;;\nclose_in ic;;\n\nread_message;;",
      "metadata": {
        "trusted": true
      },
      "outputs": [],
      "execution_count": null
    },
    {
      "cell_type": "markdown",
      "source": "We can verify the file was created by listing the contents of the current directory.",
      "metadata": {}
    },
    {
      "cell_type": "code",
      "source": "Sys.readdir \".\";;",
      "metadata": {
        "trusted": true
      },
      "outputs": [],
      "execution_count": null
    },
    {
      "cell_type": "markdown",
      "source": "## 🎉 Conclusion\n\nThis notebook has demonstrated the core features of `xeus-ocaml`. You've seen how to execute code, get rich language support, display visualizations, load libraries, and interact with a virtual filesystem, all within your browser.\n\nFor more information, visit the [project repository on GitHub](https://github.com/davy39/xeus-ocaml).",
      "metadata": {}
    }
  ]
}